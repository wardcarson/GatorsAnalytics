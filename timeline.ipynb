{
  "nbformat": 4,
  "nbformat_minor": 0,
  "metadata": {
    "colab": {
      "provenance": [],
      "authorship_tag": "ABX9TyOM80xQ7ZuQ+iq60Q6rMQ8s",
      "include_colab_link": true
    },
    "kernelspec": {
      "name": "python3",
      "display_name": "Python 3"
    },
    "language_info": {
      "name": "python"
    }
  },
  "cells": [
    {
      "cell_type": "markdown",
      "metadata": {
        "id": "view-in-github",
        "colab_type": "text"
      },
      "source": [
        "<a href=\"https://colab.research.google.com/github/wardcarson/GatorsAnalytics/blob/main/timeline.ipynb\" target=\"_parent\"><img src=\"https://colab.research.google.com/assets/colab-badge.svg\" alt=\"Open In Colab\"/></a>"
      ]
    },
    {
      "cell_type": "markdown",
      "source": [
        "# Python Twitter Timeline Scraper\n",
        "\n",
        "Simple program to take the latest *x* tweets from a users timeline and upload them into a google sheet.\n",
        "\n"
      ],
      "metadata": {
        "id": "5FSmmJ182JTt"
      }
    },
    {
      "cell_type": "code",
      "execution_count": null,
      "metadata": {
        "colab": {
          "base_uri": "https://localhost:8080/"
        },
        "id": "rRRCmZkDtZEc",
        "outputId": "10e656eb-2268-45cc-ef05-df07d8dfcd6f"
      },
      "outputs": [
        {
          "output_type": "stream",
          "name": "stdout",
          "text": [
            "Looking in indexes: https://pypi.org/simple, https://us-python.pkg.dev/colab-wheels/public/simple/\n",
            "Collecting snscrape\n",
            "  Downloading snscrape-0.5.0.20230113-py3-none-any.whl (69 kB)\n",
            "\u001b[2K     \u001b[90m━━━━━━━━━━━━━━━━━━━━━━━━━━━━━━━━━━━━━━━━\u001b[0m \u001b[32m69.2/69.2 KB\u001b[0m \u001b[31m7.0 MB/s\u001b[0m eta \u001b[36m0:00:00\u001b[0m\n",
            "\u001b[?25hRequirement already satisfied: requests[socks] in /usr/local/lib/python3.8/dist-packages (from snscrape) (2.25.1)\n",
            "Requirement already satisfied: lxml in /usr/local/lib/python3.8/dist-packages (from snscrape) (4.9.2)\n",
            "Requirement already satisfied: filelock in /usr/local/lib/python3.8/dist-packages (from snscrape) (3.9.0)\n",
            "Requirement already satisfied: pytz in /usr/local/lib/python3.8/dist-packages (from snscrape) (2022.7.1)\n",
            "Requirement already satisfied: beautifulsoup4 in /usr/local/lib/python3.8/dist-packages (from snscrape) (4.6.3)\n",
            "Requirement already satisfied: urllib3<1.27,>=1.21.1 in /usr/local/lib/python3.8/dist-packages (from requests[socks]->snscrape) (1.24.3)\n",
            "Requirement already satisfied: chardet<5,>=3.0.2 in /usr/local/lib/python3.8/dist-packages (from requests[socks]->snscrape) (4.0.0)\n",
            "Requirement already satisfied: certifi>=2017.4.17 in /usr/local/lib/python3.8/dist-packages (from requests[socks]->snscrape) (2022.12.7)\n",
            "Requirement already satisfied: idna<3,>=2.5 in /usr/local/lib/python3.8/dist-packages (from requests[socks]->snscrape) (2.10)\n",
            "Requirement already satisfied: PySocks!=1.5.7,>=1.5.6 in /usr/local/lib/python3.8/dist-packages (from requests[socks]->snscrape) (1.7.1)\n",
            "Installing collected packages: snscrape\n",
            "Successfully installed snscrape-0.5.0.20230113\n"
          ]
        }
      ],
      "source": [
        "# Necessary imports & installs for use\n",
        "\n",
        "!pip3 install snscrape;\n",
        "import os\n",
        "import pandas as pd\n",
        "import snscrape.modules.twitter as sntwitter\n",
        "import snscrape"
      ]
    },
    {
      "cell_type": "code",
      "source": [
        "# Scrapes timeline and returns as df \n",
        "\n",
        "def timeline(username,tweet_count):\n",
        "  \n",
        "    # Using OS library to call CLI commands in Python\n",
        "    os.system(\"snscrape --jsonl --max-results {} twitter-search 'from:{}'> user-tweets.json\".format(tweet_count , at))\n",
        "\n",
        "    # Convert json to pandas dataframe\n",
        "    tweets_df1 = pd.read_json('user-tweets.json', lines=True)\n",
        "\n",
        "    # Cut out extraneous columns from df\n",
        "    tweets_df1 = tweets_df1[['url','date','renderedContent','id','user',\n",
        " 'replyCount','retweetCount','likeCount','quoteCount']]\n",
        "    \n",
        "    return tweets_df1\n",
        "\n",
        "\n",
        "# Change username to change what timeline is obtained\n",
        "# tweet_count is how many tweets are returned from timeline\n",
        "at = 'gatorsfb'\n",
        "tweet_count = 70\n",
        "timeline_df = timeline(at,tweet_count=tweet_count)\n"
      ],
      "metadata": {
        "id": "5mDEgGXduCzr"
      },
      "execution_count": null,
      "outputs": []
    },
    {
      "cell_type": "code",
      "source": [
        "# Takes username out of dictionary they exist in\n",
        "def replace(lst, marks):\n",
        "    result = [d[marks] for d in lst if marks in d]\n",
        " \n",
        "    return result\n",
        "\n",
        "tt = replace(timeline_df['user'],'username')\n",
        "\n",
        "timeline_df['user'] = tt\n",
        "\n",
        "# un-comment to see df if need be\n",
        "# timeline_df"
      ],
      "metadata": {
        "id": "C_EYlieZzb9t"
      },
      "execution_count": null,
      "outputs": []
    },
    {
      "cell_type": "code",
      "source": [
        "# Connects colab to sheets \n",
        "\n",
        "\n",
        "from google.colab import auth\n",
        "auth.authenticate_user()\n",
        "import gspread\n",
        "from oauth2client.client import GoogleCredentials as GC\n",
        "\n",
        "# Google authorization (stack overflow product as original one was not working)\n",
        "from google.auth import default\n",
        "creds, _ = default()\n",
        "\n",
        "gc = gspread.authorize(creds)\n",
        "\n",
        "# create, and save df into sheet\n",
        "from gspread_dataframe import set_with_dataframe\n",
        "\n",
        "# Title of google sheet to be saved to \n",
        "title = 'Test for Bruce'\n",
        "gc.create(title)  # if not exist\n",
        "sheet = gc.open(title).sheet1\n",
        "set_with_dataframe(sheet, timeline_df) \n"
      ],
      "metadata": {
        "id": "mmB72PEgvQ4k"
      },
      "execution_count": null,
      "outputs": []
    },
    {
      "cell_type": "markdown",
      "source": [
        "References:\n",
        "\n",
        "https://stackoverflow.com/questions/71686960/typeerror-credentials-need-to-be-from-either-oauth2client-or-from-google-auth\n",
        "\n",
        "https://gist.github.com/korakot/3c9a33c12c6547ed38b2ca4b1e311426\n",
        "\n",
        "https://pypi.org/project/snscrape/"
      ],
      "metadata": {
        "id": "SIqe0-HY5omM"
      }
    }
  ]
}